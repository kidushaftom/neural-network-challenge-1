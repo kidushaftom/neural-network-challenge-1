{
  "cells": [
    {
      "cell_type": "markdown",
      "metadata": {
        "id": "T7ZNhGcW6q6r"
      },
      "source": [
        "# Student Loan Risk with Deep Learning"
      ]
    },
    {
      "cell_type": "code",
      "execution_count": 1,
      "metadata": {
        "id": "0otrXpJc6q6u"
      },
      "outputs": [],
      "source": [
        "# Imports\n",
        "import pandas as pd\n",
        "import tensorflow as tf\n",
        "from tensorflow.keras.layers import Dense\n",
        "from tensorflow.keras.models import Sequential\n",
        "from sklearn.model_selection import train_test_split\n",
        "from sklearn.preprocessing import StandardScaler\n",
        "from sklearn.metrics import classification_report\n",
        "from pathlib import Path\n",
        "import numpy as np\n",
        "from matplotlib import pyplot as plt\n",
        "from tensorflow import keras\n",
        "from sklearn.metrics import confusion_matrix"
      ]
    },
    {
      "cell_type": "markdown",
      "metadata": {
        "id": "OpV4Y-3Z6q6w"
      },
      "source": [
        "---\n",
        "\n",
        "## Prepare the data to be used on a neural network model"
      ]
    },
    {
      "cell_type": "markdown",
      "metadata": {
        "id": "TUuSzp2l6q6w"
      },
      "source": [
        "### Step 1: Read the `student-loans.csv` file into a Pandas DataFrame. Review the DataFrame, looking for columns that could eventually define your features and target variables.   "
      ]
    },
    {
      "cell_type": "code",
      "execution_count": 2,
      "metadata": {
        "colab": {
          "base_uri": "https://localhost:8080/",
          "height": 226
        },
        "id": "G65km1KD6q6x",
        "outputId": "93d12d8d-c415-4017-8452-5b4966e4dde5"
      },
      "outputs": [
        {
          "data": {
            "text/html": [
              "<div>\n",
              "<style scoped>\n",
              "    .dataframe tbody tr th:only-of-type {\n",
              "        vertical-align: middle;\n",
              "    }\n",
              "\n",
              "    .dataframe tbody tr th {\n",
              "        vertical-align: top;\n",
              "    }\n",
              "\n",
              "    .dataframe thead th {\n",
              "        text-align: right;\n",
              "    }\n",
              "</style>\n",
              "<table border=\"1\" class=\"dataframe\">\n",
              "  <thead>\n",
              "    <tr style=\"text-align: right;\">\n",
              "      <th></th>\n",
              "      <th>payment_history</th>\n",
              "      <th>location_parameter</th>\n",
              "      <th>stem_degree_score</th>\n",
              "      <th>gpa_ranking</th>\n",
              "      <th>alumni_success</th>\n",
              "      <th>study_major_code</th>\n",
              "      <th>time_to_completion</th>\n",
              "      <th>finance_workshop_score</th>\n",
              "      <th>cohort_ranking</th>\n",
              "      <th>total_loan_score</th>\n",
              "      <th>financial_aid_score</th>\n",
              "      <th>credit_ranking</th>\n",
              "    </tr>\n",
              "  </thead>\n",
              "  <tbody>\n",
              "    <tr>\n",
              "      <th>0</th>\n",
              "      <td>7.4</td>\n",
              "      <td>0.70</td>\n",
              "      <td>0.00</td>\n",
              "      <td>1.9</td>\n",
              "      <td>0.076</td>\n",
              "      <td>11.0</td>\n",
              "      <td>34.0</td>\n",
              "      <td>0.9978</td>\n",
              "      <td>3.51</td>\n",
              "      <td>0.56</td>\n",
              "      <td>9.4</td>\n",
              "      <td>0</td>\n",
              "    </tr>\n",
              "    <tr>\n",
              "      <th>1</th>\n",
              "      <td>7.8</td>\n",
              "      <td>0.88</td>\n",
              "      <td>0.00</td>\n",
              "      <td>2.6</td>\n",
              "      <td>0.098</td>\n",
              "      <td>25.0</td>\n",
              "      <td>67.0</td>\n",
              "      <td>0.9968</td>\n",
              "      <td>3.20</td>\n",
              "      <td>0.68</td>\n",
              "      <td>9.8</td>\n",
              "      <td>0</td>\n",
              "    </tr>\n",
              "    <tr>\n",
              "      <th>2</th>\n",
              "      <td>7.8</td>\n",
              "      <td>0.76</td>\n",
              "      <td>0.04</td>\n",
              "      <td>2.3</td>\n",
              "      <td>0.092</td>\n",
              "      <td>15.0</td>\n",
              "      <td>54.0</td>\n",
              "      <td>0.9970</td>\n",
              "      <td>3.26</td>\n",
              "      <td>0.65</td>\n",
              "      <td>9.8</td>\n",
              "      <td>0</td>\n",
              "    </tr>\n",
              "    <tr>\n",
              "      <th>3</th>\n",
              "      <td>11.2</td>\n",
              "      <td>0.28</td>\n",
              "      <td>0.56</td>\n",
              "      <td>1.9</td>\n",
              "      <td>0.075</td>\n",
              "      <td>17.0</td>\n",
              "      <td>60.0</td>\n",
              "      <td>0.9980</td>\n",
              "      <td>3.16</td>\n",
              "      <td>0.58</td>\n",
              "      <td>9.8</td>\n",
              "      <td>1</td>\n",
              "    </tr>\n",
              "    <tr>\n",
              "      <th>4</th>\n",
              "      <td>7.4</td>\n",
              "      <td>0.70</td>\n",
              "      <td>0.00</td>\n",
              "      <td>1.9</td>\n",
              "      <td>0.076</td>\n",
              "      <td>11.0</td>\n",
              "      <td>34.0</td>\n",
              "      <td>0.9978</td>\n",
              "      <td>3.51</td>\n",
              "      <td>0.56</td>\n",
              "      <td>9.4</td>\n",
              "      <td>0</td>\n",
              "    </tr>\n",
              "  </tbody>\n",
              "</table>\n",
              "</div>"
            ],
            "text/plain": [
              "   payment_history  location_parameter  stem_degree_score  gpa_ranking  \\\n",
              "0              7.4                0.70               0.00          1.9   \n",
              "1              7.8                0.88               0.00          2.6   \n",
              "2              7.8                0.76               0.04          2.3   \n",
              "3             11.2                0.28               0.56          1.9   \n",
              "4              7.4                0.70               0.00          1.9   \n",
              "\n",
              "   alumni_success  study_major_code  time_to_completion  \\\n",
              "0           0.076              11.0                34.0   \n",
              "1           0.098              25.0                67.0   \n",
              "2           0.092              15.0                54.0   \n",
              "3           0.075              17.0                60.0   \n",
              "4           0.076              11.0                34.0   \n",
              "\n",
              "   finance_workshop_score  cohort_ranking  total_loan_score  \\\n",
              "0                  0.9978            3.51              0.56   \n",
              "1                  0.9968            3.20              0.68   \n",
              "2                  0.9970            3.26              0.65   \n",
              "3                  0.9980            3.16              0.58   \n",
              "4                  0.9978            3.51              0.56   \n",
              "\n",
              "   financial_aid_score  credit_ranking  \n",
              "0                  9.4               0  \n",
              "1                  9.8               0  \n",
              "2                  9.8               0  \n",
              "3                  9.8               1  \n",
              "4                  9.4               0  "
            ]
          },
          "execution_count": 2,
          "metadata": {},
          "output_type": "execute_result"
        }
      ],
      "source": [
        "# Read the csv into a Pandas DataFrame\n",
        "file_path = \"https://static.bc-edx.com/ai/ail-v-1-0/m18/lms/datasets/student-loans.csv\"\n",
        "loans_df = pd.read_csv(file_path)\n",
        "\n",
        "# Review the DataFrame\n",
        "loans_df.head()"
      ]
    },
    {
      "cell_type": "code",
      "execution_count": 3,
      "metadata": {
        "colab": {
          "base_uri": "https://localhost:8080/"
        },
        "id": "K8ZYB8wx6q6x",
        "outputId": "b509fc34-4488-406e-e451-2069fec37371"
      },
      "outputs": [
        {
          "data": {
            "text/plain": [
              "payment_history           float64\n",
              "location_parameter        float64\n",
              "stem_degree_score         float64\n",
              "gpa_ranking               float64\n",
              "alumni_success            float64\n",
              "study_major_code          float64\n",
              "time_to_completion        float64\n",
              "finance_workshop_score    float64\n",
              "cohort_ranking            float64\n",
              "total_loan_score          float64\n",
              "financial_aid_score       float64\n",
              "credit_ranking              int64\n",
              "dtype: object"
            ]
          },
          "execution_count": 3,
          "metadata": {},
          "output_type": "execute_result"
        }
      ],
      "source": [
        "# Review the data types associated with the columns\n",
        "loans_df.dtypes"
      ]
    },
    {
      "cell_type": "code",
      "execution_count": 4,
      "metadata": {
        "colab": {
          "base_uri": "https://localhost:8080/"
        },
        "id": "9P8aX-dW75JO",
        "outputId": "63251fa8-5ac1-4112-c2f7-bc5d97ea8491"
      },
      "outputs": [
        {
          "data": {
            "text/plain": [
              "credit_ranking\n",
              "1    855\n",
              "0    744\n",
              "Name: count, dtype: int64"
            ]
          },
          "execution_count": 4,
          "metadata": {},
          "output_type": "execute_result"
        }
      ],
      "source": [
        "# Check the credit_ranking value counts\n",
        "loans_df[\"credit_ranking\"].value_counts()"
      ]
    },
    {
      "cell_type": "markdown",
      "metadata": {
        "id": "R6vbZeDH6q6y"
      },
      "source": [
        "### Step 2: Using the preprocessed data, create the features (`X`) and target (`y`) datasets. The target dataset should be defined by the preprocessed DataFrame column “credit_ranking”. The remaining columns should define the features dataset."
      ]
    },
    {
      "cell_type": "code",
      "execution_count": 5,
      "metadata": {
        "colab": {
          "base_uri": "https://localhost:8080/"
        },
        "id": "Q5eVAP5M6q6y",
        "outputId": "89728bbf-6930-4573-a126-9f1b66ed8859"
      },
      "outputs": [
        {
          "data": {
            "text/plain": [
              "<bound method NDFrame.sample of 0       0\n",
              "1       0\n",
              "2       0\n",
              "3       1\n",
              "4       0\n",
              "       ..\n",
              "1594    0\n",
              "1595    1\n",
              "1596    1\n",
              "1597    0\n",
              "1598    1\n",
              "Name: credit_ranking, Length: 1599, dtype: int64>"
            ]
          },
          "execution_count": 5,
          "metadata": {},
          "output_type": "execute_result"
        }
      ],
      "source": [
        "# Define the target set y using the credit_ranking column\n",
        "y = loans_df[\"credit_ranking\"]\n",
        "\n",
        "# Display a sample of y\n",
        "y.sample"
      ]
    },
    {
      "cell_type": "code",
      "execution_count": 6,
      "metadata": {
        "colab": {
          "base_uri": "https://localhost:8080/",
          "height": 226
        },
        "id": "IIkrD2Sn6q6z",
        "outputId": "ce07c4a3-fb81-4657-d11e-ec85ae8554c9"
      },
      "outputs": [
        {
          "data": {
            "text/html": [
              "<div>\n",
              "<style scoped>\n",
              "    .dataframe tbody tr th:only-of-type {\n",
              "        vertical-align: middle;\n",
              "    }\n",
              "\n",
              "    .dataframe tbody tr th {\n",
              "        vertical-align: top;\n",
              "    }\n",
              "\n",
              "    .dataframe thead th {\n",
              "        text-align: right;\n",
              "    }\n",
              "</style>\n",
              "<table border=\"1\" class=\"dataframe\">\n",
              "  <thead>\n",
              "    <tr style=\"text-align: right;\">\n",
              "      <th></th>\n",
              "      <th>payment_history</th>\n",
              "      <th>location_parameter</th>\n",
              "      <th>stem_degree_score</th>\n",
              "      <th>gpa_ranking</th>\n",
              "      <th>alumni_success</th>\n",
              "      <th>study_major_code</th>\n",
              "      <th>time_to_completion</th>\n",
              "      <th>finance_workshop_score</th>\n",
              "      <th>cohort_ranking</th>\n",
              "      <th>total_loan_score</th>\n",
              "      <th>financial_aid_score</th>\n",
              "    </tr>\n",
              "  </thead>\n",
              "  <tbody>\n",
              "    <tr>\n",
              "      <th>0</th>\n",
              "      <td>7.4</td>\n",
              "      <td>0.70</td>\n",
              "      <td>0.00</td>\n",
              "      <td>1.9</td>\n",
              "      <td>0.076</td>\n",
              "      <td>11.0</td>\n",
              "      <td>34.0</td>\n",
              "      <td>0.9978</td>\n",
              "      <td>3.51</td>\n",
              "      <td>0.56</td>\n",
              "      <td>9.4</td>\n",
              "    </tr>\n",
              "    <tr>\n",
              "      <th>1</th>\n",
              "      <td>7.8</td>\n",
              "      <td>0.88</td>\n",
              "      <td>0.00</td>\n",
              "      <td>2.6</td>\n",
              "      <td>0.098</td>\n",
              "      <td>25.0</td>\n",
              "      <td>67.0</td>\n",
              "      <td>0.9968</td>\n",
              "      <td>3.20</td>\n",
              "      <td>0.68</td>\n",
              "      <td>9.8</td>\n",
              "    </tr>\n",
              "    <tr>\n",
              "      <th>2</th>\n",
              "      <td>7.8</td>\n",
              "      <td>0.76</td>\n",
              "      <td>0.04</td>\n",
              "      <td>2.3</td>\n",
              "      <td>0.092</td>\n",
              "      <td>15.0</td>\n",
              "      <td>54.0</td>\n",
              "      <td>0.9970</td>\n",
              "      <td>3.26</td>\n",
              "      <td>0.65</td>\n",
              "      <td>9.8</td>\n",
              "    </tr>\n",
              "    <tr>\n",
              "      <th>3</th>\n",
              "      <td>11.2</td>\n",
              "      <td>0.28</td>\n",
              "      <td>0.56</td>\n",
              "      <td>1.9</td>\n",
              "      <td>0.075</td>\n",
              "      <td>17.0</td>\n",
              "      <td>60.0</td>\n",
              "      <td>0.9980</td>\n",
              "      <td>3.16</td>\n",
              "      <td>0.58</td>\n",
              "      <td>9.8</td>\n",
              "    </tr>\n",
              "    <tr>\n",
              "      <th>4</th>\n",
              "      <td>7.4</td>\n",
              "      <td>0.70</td>\n",
              "      <td>0.00</td>\n",
              "      <td>1.9</td>\n",
              "      <td>0.076</td>\n",
              "      <td>11.0</td>\n",
              "      <td>34.0</td>\n",
              "      <td>0.9978</td>\n",
              "      <td>3.51</td>\n",
              "      <td>0.56</td>\n",
              "      <td>9.4</td>\n",
              "    </tr>\n",
              "  </tbody>\n",
              "</table>\n",
              "</div>"
            ],
            "text/plain": [
              "   payment_history  location_parameter  stem_degree_score  gpa_ranking  \\\n",
              "0              7.4                0.70               0.00          1.9   \n",
              "1              7.8                0.88               0.00          2.6   \n",
              "2              7.8                0.76               0.04          2.3   \n",
              "3             11.2                0.28               0.56          1.9   \n",
              "4              7.4                0.70               0.00          1.9   \n",
              "\n",
              "   alumni_success  study_major_code  time_to_completion  \\\n",
              "0           0.076              11.0                34.0   \n",
              "1           0.098              25.0                67.0   \n",
              "2           0.092              15.0                54.0   \n",
              "3           0.075              17.0                60.0   \n",
              "4           0.076              11.0                34.0   \n",
              "\n",
              "   finance_workshop_score  cohort_ranking  total_loan_score  \\\n",
              "0                  0.9978            3.51              0.56   \n",
              "1                  0.9968            3.20              0.68   \n",
              "2                  0.9970            3.26              0.65   \n",
              "3                  0.9980            3.16              0.58   \n",
              "4                  0.9978            3.51              0.56   \n",
              "\n",
              "   financial_aid_score  \n",
              "0                  9.4  \n",
              "1                  9.8  \n",
              "2                  9.8  \n",
              "3                  9.8  \n",
              "4                  9.4  "
            ]
          },
          "execution_count": 6,
          "metadata": {},
          "output_type": "execute_result"
        }
      ],
      "source": [
        "# Define features set X by selecting all columns but credit_ranking\n",
        "x = loans_df.drop(columns=\"credit_ranking\", axis = 1)\n",
        "\n",
        "# Review the features DataFrame\n",
        "x.head()"
      ]
    },
    {
      "cell_type": "markdown",
      "metadata": {
        "id": "QmM9c-tj6q6z"
      },
      "source": [
        "### Step 3: Split the features and target sets into training and testing datasets.\n"
      ]
    },
    {
      "cell_type": "code",
      "execution_count": 7,
      "metadata": {
        "id": "OD7xwU_96q6z"
      },
      "outputs": [
        {
          "data": {
            "text/plain": [
              "((1199, 11), (400, 11), (1199,), (400,))"
            ]
          },
          "execution_count": 7,
          "metadata": {},
          "output_type": "execute_result"
        }
      ],
      "source": [
        "# Split the preprocessed data into a training and testing dataset\n",
        "# Assign the function a random_state equal to 1\n",
        "x_train,x_test,y_train,y_test = train_test_split(x,y,random_state=1)\n",
        "\n",
        "(x_train.shape,x_test.shape,y_train.shape,y_test.shape)"
      ]
    },
    {
      "cell_type": "markdown",
      "metadata": {
        "id": "G9i6DHY06q6z"
      },
      "source": [
        "### Step 4: Use scikit-learn's `StandardScaler` to scale the features data."
      ]
    },
    {
      "cell_type": "code",
      "execution_count": 8,
      "metadata": {
        "id": "BzD3z20m6q6z"
      },
      "outputs": [
        {
          "data": {
            "text/html": [
              "<div>\n",
              "<style scoped>\n",
              "    .dataframe tbody tr th:only-of-type {\n",
              "        vertical-align: middle;\n",
              "    }\n",
              "\n",
              "    .dataframe tbody tr th {\n",
              "        vertical-align: top;\n",
              "    }\n",
              "\n",
              "    .dataframe thead th {\n",
              "        text-align: right;\n",
              "    }\n",
              "</style>\n",
              "<table border=\"1\" class=\"dataframe\">\n",
              "  <thead>\n",
              "    <tr style=\"text-align: right;\">\n",
              "      <th></th>\n",
              "      <th>payment_history</th>\n",
              "      <th>location_parameter</th>\n",
              "      <th>stem_degree_score</th>\n",
              "      <th>gpa_ranking</th>\n",
              "      <th>alumni_success</th>\n",
              "      <th>study_major_code</th>\n",
              "      <th>time_to_completion</th>\n",
              "      <th>finance_workshop_score</th>\n",
              "      <th>cohort_ranking</th>\n",
              "      <th>total_loan_score</th>\n",
              "      <th>financial_aid_score</th>\n",
              "    </tr>\n",
              "  </thead>\n",
              "  <tbody>\n",
              "    <tr>\n",
              "      <th>0</th>\n",
              "      <td>-0.567944</td>\n",
              "      <td>-1.180884</td>\n",
              "      <td>-0.192413</td>\n",
              "      <td>-0.171926</td>\n",
              "      <td>-0.457376</td>\n",
              "      <td>1.868533</td>\n",
              "      <td>0.747932</td>\n",
              "      <td>-0.451208</td>\n",
              "      <td>0.732496</td>\n",
              "      <td>-0.225539</td>\n",
              "      <td>-0.319157</td>\n",
              "    </tr>\n",
              "    <tr>\n",
              "      <th>1</th>\n",
              "      <td>-0.009410</td>\n",
              "      <td>0.800656</td>\n",
              "      <td>-0.041231</td>\n",
              "      <td>-0.322365</td>\n",
              "      <td>-0.069940</td>\n",
              "      <td>-0.453847</td>\n",
              "      <td>-0.085584</td>\n",
              "      <td>0.447799</td>\n",
              "      <td>-0.030161</td>\n",
              "      <td>-0.758447</td>\n",
              "      <td>-1.157834</td>\n",
              "    </tr>\n",
              "    <tr>\n",
              "      <th>2</th>\n",
              "      <td>2.336433</td>\n",
              "      <td>-0.845976</td>\n",
              "      <td>1.672160</td>\n",
              "      <td>0.053733</td>\n",
              "      <td>-0.134513</td>\n",
              "      <td>1.481470</td>\n",
              "      <td>0.809673</td>\n",
              "      <td>1.493156</td>\n",
              "      <td>-1.364809</td>\n",
              "      <td>0.425793</td>\n",
              "      <td>0.053588</td>\n",
              "    </tr>\n",
              "    <tr>\n",
              "      <th>3</th>\n",
              "      <td>0.214004</td>\n",
              "      <td>1.303018</td>\n",
              "      <td>-0.242807</td>\n",
              "      <td>-0.171926</td>\n",
              "      <td>-0.500424</td>\n",
              "      <td>-0.647379</td>\n",
              "      <td>-0.116455</td>\n",
              "      <td>-0.231683</td>\n",
              "      <td>-1.364809</td>\n",
              "      <td>-0.640023</td>\n",
              "      <td>-0.971462</td>\n",
              "    </tr>\n",
              "    <tr>\n",
              "      <th>4</th>\n",
              "      <td>-0.009410</td>\n",
              "      <td>1.749562</td>\n",
              "      <td>-1.301078</td>\n",
              "      <td>-0.247146</td>\n",
              "      <td>-0.371279</td>\n",
              "      <td>-1.034442</td>\n",
              "      <td>-0.980841</td>\n",
              "      <td>-0.022612</td>\n",
              "      <td>0.033394</td>\n",
              "      <td>-0.462387</td>\n",
              "      <td>0.519520</td>\n",
              "    </tr>\n",
              "  </tbody>\n",
              "</table>\n",
              "</div>"
            ],
            "text/plain": [
              "   payment_history  location_parameter  stem_degree_score  gpa_ranking  \\\n",
              "0        -0.567944           -1.180884          -0.192413    -0.171926   \n",
              "1        -0.009410            0.800656          -0.041231    -0.322365   \n",
              "2         2.336433           -0.845976           1.672160     0.053733   \n",
              "3         0.214004            1.303018          -0.242807    -0.171926   \n",
              "4        -0.009410            1.749562          -1.301078    -0.247146   \n",
              "\n",
              "   alumni_success  study_major_code  time_to_completion  \\\n",
              "0       -0.457376          1.868533            0.747932   \n",
              "1       -0.069940         -0.453847           -0.085584   \n",
              "2       -0.134513          1.481470            0.809673   \n",
              "3       -0.500424         -0.647379           -0.116455   \n",
              "4       -0.371279         -1.034442           -0.980841   \n",
              "\n",
              "   finance_workshop_score  cohort_ranking  total_loan_score  \\\n",
              "0               -0.451208        0.732496         -0.225539   \n",
              "1                0.447799       -0.030161         -0.758447   \n",
              "2                1.493156       -1.364809          0.425793   \n",
              "3               -0.231683       -1.364809         -0.640023   \n",
              "4               -0.022612        0.033394         -0.462387   \n",
              "\n",
              "   financial_aid_score  \n",
              "0            -0.319157  \n",
              "1            -1.157834  \n",
              "2             0.053588  \n",
              "3            -0.971462  \n",
              "4             0.519520  "
            ]
          },
          "execution_count": 8,
          "metadata": {},
          "output_type": "execute_result"
        }
      ],
      "source": [
        "# Create a StandardScaler instance\n",
        "scaler = StandardScaler()\n",
        "\n",
        "# Fit the scaler to the features training dataset\n",
        "scaler.fit(x_train)\n",
        "\n",
        "# Fit the scaler to the features training dataset\n",
        "x_train_scaled = pd.DataFrame(scaler.transform(x_train), columns=x.columns)\n",
        "x_test_scaled = pd.DataFrame(scaler.transform(x_test), columns=x.columns)\n",
        "\n",
        "x_train_scaled.head()"
      ]
    },
    {
      "cell_type": "markdown",
      "metadata": {
        "id": "CZzVDjba6q6z"
      },
      "source": [
        "---\n",
        "\n",
        "## Compile and Evaluate a Model Using a Neural Network"
      ]
    },
    {
      "cell_type": "markdown",
      "metadata": {
        "id": "m-pSux4Q6q60"
      },
      "source": [
        "### Step 1: Create a deep neural network by assigning the number of input features, the number of layers, and the number of neurons on each layer using Tensorflow’s Keras.\n",
        "\n",
        "> **Hint** You can start with a two-layer deep neural network model that uses the `relu` activation function for both layers.\n"
      ]
    },
    {
      "cell_type": "code",
      "execution_count": 9,
      "metadata": {
        "colab": {
          "base_uri": "https://localhost:8080/"
        },
        "id": "t5C94FCd6q60",
        "outputId": "cbf05783-2f56-4745-cd33-649a6152e510"
      },
      "outputs": [
        {
          "data": {
            "text/plain": [
              "11"
            ]
          },
          "execution_count": 9,
          "metadata": {},
          "output_type": "execute_result"
        }
      ],
      "source": [
        "# Define the the number of inputs (features) to the model\n",
        "input_dim = len(x_train.columns)\n",
        "\n",
        "# Review the number of features\n",
        "input_dim"
      ]
    },
    {
      "cell_type": "code",
      "execution_count": 22,
      "metadata": {
        "id": "c_KXDLkF6q60"
      },
      "outputs": [],
      "source": [
        "# Define the number of hidden nodes for the first hidden layer\n",
        "num_hidden_nodes_first_layer = 128\n",
        "\n",
        "# Define the number of hidden nodes for the second hidden layer\n",
        "num_hidden_nodes_second_layer = 64\n",
        "\n",
        "# Define the number of neurons in the output layer\n",
        "neurons_output_layer = 1"
      ]
    },
    {
      "cell_type": "code",
      "execution_count": 24,
      "metadata": {
        "id": "63UdFncw6q60"
      },
      "outputs": [],
      "source": [
        "# Create the Sequential model instance\n",
        "\n",
        "tf.random.set_seed(10)\n",
        "\n",
        "model = Sequential()\n",
        "\n",
        "# Add the first hidden layer\n",
        "model.add(Dense(units=num_hidden_nodes_first_layer, activation='relu', input_dim=input_dim))\n",
        "\n",
        "\n",
        "# Add the second hidden layer\n",
        "model.add(Dense(units=num_hidden_nodes_second_layer, activation='relu'))\n",
        "\n",
        "# Add the output layer to the model specifying the number of output neurons and activation function\n",
        "model.add(Dense(neurons_output_layer, activation='sigmoid'))"
      ]
    },
    {
      "cell_type": "code",
      "execution_count": 12,
      "metadata": {
        "colab": {
          "base_uri": "https://localhost:8080/"
        },
        "id": "-Beoh4f_6q61",
        "outputId": "2e50f810-086b-4d89-bf7d-98afbe0d649d"
      },
      "outputs": [
        {
          "name": "stdout",
          "output_type": "stream",
          "text": [
            "Model: \"sequential\"\n",
            "_________________________________________________________________\n",
            " Layer (type)                Output Shape              Param #   \n",
            "=================================================================\n",
            " dense (Dense)               (None, 64)                768       \n",
            "                                                                 \n",
            " dense_1 (Dense)             (None, 64)                4160      \n",
            "                                                                 \n",
            " dense_2 (Dense)             (None, 1)                 65        \n",
            "                                                                 \n",
            "=================================================================\n",
            "Total params: 4,993\n",
            "Trainable params: 4,993\n",
            "Non-trainable params: 0\n",
            "_________________________________________________________________\n"
          ]
        }
      ],
      "source": [
        "# Display the Sequential model summary\n",
        "model.summary()"
      ]
    },
    {
      "cell_type": "markdown",
      "metadata": {
        "id": "nRqWGIRo6q61"
      },
      "source": [
        "### Step 2: Compile and fit the model using the `binary_crossentropy` loss function, the `adam` optimizer, and the `accuracy` evaluation metric.\n"
      ]
    },
    {
      "cell_type": "code",
      "execution_count": 25,
      "metadata": {
        "id": "E-hZaeSn6q61"
      },
      "outputs": [],
      "source": [
        "# Compile the Sequential model\n",
        "model.compile(loss='binary_crossentropy', optimizer='adam', metrics='accuracy')"
      ]
    },
    {
      "cell_type": "code",
      "execution_count": 29,
      "metadata": {
        "colab": {
          "base_uri": "https://localhost:8080/"
        },
        "id": "x25e8Idc6q61",
        "outputId": "e95946ba-23da-47a3-a1c1-5e9a2a484a47"
      },
      "outputs": [
        {
          "name": "stdout",
          "output_type": "stream",
          "text": [
            "Epoch 1/1000\n",
            "38/38 [==============================] - 0s 2ms/step - loss: 0.1211 - accuracy: 0.9600\n",
            "Epoch 2/1000\n",
            "38/38 [==============================] - 0s 2ms/step - loss: 0.1184 - accuracy: 0.9716\n",
            "Epoch 3/1000\n",
            "38/38 [==============================] - 0s 2ms/step - loss: 0.1193 - accuracy: 0.9641\n",
            "Epoch 4/1000\n",
            "38/38 [==============================] - 0s 2ms/step - loss: 0.1152 - accuracy: 0.9625\n",
            "Epoch 5/1000\n",
            "38/38 [==============================] - 0s 2ms/step - loss: 0.1180 - accuracy: 0.9591\n",
            "Epoch 6/1000\n",
            "38/38 [==============================] - 0s 2ms/step - loss: 0.1114 - accuracy: 0.9641\n",
            "Epoch 7/1000\n",
            "38/38 [==============================] - 0s 1ms/step - loss: 0.1079 - accuracy: 0.9725\n",
            "Epoch 8/1000\n",
            "38/38 [==============================] - 0s 2ms/step - loss: 0.1003 - accuracy: 0.9733\n",
            "Epoch 9/1000\n",
            "38/38 [==============================] - 0s 2ms/step - loss: 0.1095 - accuracy: 0.9616\n",
            "Epoch 10/1000\n",
            "38/38 [==============================] - 0s 1ms/step - loss: 0.1076 - accuracy: 0.9683\n",
            "Epoch 11/1000\n",
            "38/38 [==============================] - 0s 1ms/step - loss: 0.1044 - accuracy: 0.9741\n",
            "Epoch 12/1000\n",
            "38/38 [==============================] - 0s 1ms/step - loss: 0.0980 - accuracy: 0.9766\n",
            "Epoch 13/1000\n",
            "38/38 [==============================] - 0s 1ms/step - loss: 0.0918 - accuracy: 0.9800\n",
            "Epoch 14/1000\n",
            "38/38 [==============================] - 0s 1ms/step - loss: 0.0979 - accuracy: 0.9733\n",
            "Epoch 15/1000\n",
            "38/38 [==============================] - 0s 2ms/step - loss: 0.1025 - accuracy: 0.9708\n",
            "Epoch 16/1000\n",
            "38/38 [==============================] - 0s 2ms/step - loss: 0.0947 - accuracy: 0.9758\n",
            "Epoch 17/1000\n",
            "38/38 [==============================] - 0s 1ms/step - loss: 0.0886 - accuracy: 0.9808\n",
            "Epoch 18/1000\n",
            "38/38 [==============================] - 0s 1ms/step - loss: 0.0940 - accuracy: 0.9758\n",
            "Epoch 19/1000\n",
            "38/38 [==============================] - 0s 1ms/step - loss: 0.0840 - accuracy: 0.9791\n",
            "Epoch 20/1000\n",
            "38/38 [==============================] - 0s 1ms/step - loss: 0.0920 - accuracy: 0.9775\n",
            "Epoch 21/1000\n",
            "38/38 [==============================] - 0s 2ms/step - loss: 0.0858 - accuracy: 0.9825\n",
            "Epoch 22/1000\n",
            "38/38 [==============================] - 0s 1ms/step - loss: 0.0836 - accuracy: 0.9766\n",
            "Epoch 23/1000\n",
            "38/38 [==============================] - 0s 2ms/step - loss: 0.0819 - accuracy: 0.9800\n",
            "Epoch 24/1000\n",
            "38/38 [==============================] - 0s 1ms/step - loss: 0.0814 - accuracy: 0.9817\n",
            "Epoch 25/1000\n",
            "38/38 [==============================] - 0s 1ms/step - loss: 0.0856 - accuracy: 0.9808\n",
            "Epoch 26/1000\n",
            "38/38 [==============================] - 0s 1ms/step - loss: 0.0812 - accuracy: 0.9808\n",
            "Epoch 27/1000\n",
            "38/38 [==============================] - 0s 1ms/step - loss: 0.0773 - accuracy: 0.9791\n",
            "Epoch 28/1000\n",
            "38/38 [==============================] - 0s 1ms/step - loss: 0.0804 - accuracy: 0.9800\n",
            "Epoch 29/1000\n",
            "38/38 [==============================] - 0s 1ms/step - loss: 0.0825 - accuracy: 0.9800\n",
            "Epoch 30/1000\n",
            "38/38 [==============================] - 0s 1ms/step - loss: 0.0805 - accuracy: 0.9733\n",
            "Epoch 31/1000\n",
            "38/38 [==============================] - 0s 1ms/step - loss: 0.0740 - accuracy: 0.9842\n",
            "Epoch 32/1000\n",
            "38/38 [==============================] - 0s 2ms/step - loss: 0.0679 - accuracy: 0.9867\n",
            "Epoch 33/1000\n",
            "38/38 [==============================] - 0s 1ms/step - loss: 0.0709 - accuracy: 0.9842\n",
            "Epoch 34/1000\n",
            "38/38 [==============================] - 0s 1ms/step - loss: 0.0656 - accuracy: 0.9875\n",
            "Epoch 35/1000\n",
            "38/38 [==============================] - 0s 2ms/step - loss: 0.0721 - accuracy: 0.9825\n",
            "Epoch 36/1000\n",
            "38/38 [==============================] - 0s 3ms/step - loss: 0.0680 - accuracy: 0.9867\n",
            "Epoch 37/1000\n",
            "38/38 [==============================] - 0s 2ms/step - loss: 0.0618 - accuracy: 0.9867\n",
            "Epoch 38/1000\n",
            "38/38 [==============================] - 0s 1ms/step - loss: 0.0569 - accuracy: 0.9933\n",
            "Epoch 39/1000\n",
            "38/38 [==============================] - 0s 1ms/step - loss: 0.0739 - accuracy: 0.9817\n",
            "Epoch 40/1000\n",
            "38/38 [==============================] - 0s 1ms/step - loss: 0.0621 - accuracy: 0.9883\n",
            "Epoch 41/1000\n",
            "38/38 [==============================] - 0s 2ms/step - loss: 0.0641 - accuracy: 0.9875\n",
            "Epoch 42/1000\n",
            "38/38 [==============================] - 0s 2ms/step - loss: 0.0655 - accuracy: 0.9858\n",
            "Epoch 43/1000\n",
            "38/38 [==============================] - 0s 1ms/step - loss: 0.0605 - accuracy: 0.9900\n",
            "Epoch 44/1000\n",
            "38/38 [==============================] - 0s 2ms/step - loss: 0.0593 - accuracy: 0.9883\n",
            "Epoch 45/1000\n",
            "38/38 [==============================] - 0s 1ms/step - loss: 0.0541 - accuracy: 0.9908\n",
            "Epoch 46/1000\n",
            "38/38 [==============================] - 0s 2ms/step - loss: 0.0589 - accuracy: 0.9892\n",
            "Epoch 47/1000\n",
            "38/38 [==============================] - 0s 2ms/step - loss: 0.0578 - accuracy: 0.9858\n",
            "Epoch 48/1000\n",
            "38/38 [==============================] - 0s 2ms/step - loss: 0.0574 - accuracy: 0.9917\n",
            "Epoch 49/1000\n",
            "38/38 [==============================] - 0s 2ms/step - loss: 0.0565 - accuracy: 0.9867\n",
            "Epoch 50/1000\n",
            "38/38 [==============================] - 0s 2ms/step - loss: 0.0530 - accuracy: 0.9900\n",
            "Epoch 51/1000\n",
            "38/38 [==============================] - 0s 2ms/step - loss: 0.0502 - accuracy: 0.9917\n",
            "Epoch 52/1000\n",
            "38/38 [==============================] - 0s 2ms/step - loss: 0.0605 - accuracy: 0.9933\n",
            "Epoch 53/1000\n",
            "38/38 [==============================] - 0s 2ms/step - loss: 0.0561 - accuracy: 0.9908\n",
            "Epoch 54/1000\n",
            "38/38 [==============================] - 0s 1ms/step - loss: 0.0491 - accuracy: 0.9933\n",
            "Epoch 55/1000\n",
            "38/38 [==============================] - 0s 2ms/step - loss: 0.0587 - accuracy: 0.9900\n",
            "Epoch 56/1000\n",
            "38/38 [==============================] - 0s 1ms/step - loss: 0.0810 - accuracy: 0.9733\n",
            "Epoch 57/1000\n",
            "38/38 [==============================] - 0s 2ms/step - loss: 0.0531 - accuracy: 0.9933\n",
            "Epoch 58/1000\n",
            "38/38 [==============================] - 0s 2ms/step - loss: 0.0456 - accuracy: 0.9933\n",
            "Epoch 59/1000\n",
            "38/38 [==============================] - 0s 1ms/step - loss: 0.0460 - accuracy: 0.9917\n",
            "Epoch 60/1000\n",
            "38/38 [==============================] - 0s 2ms/step - loss: 0.0460 - accuracy: 0.9933\n",
            "Epoch 61/1000\n",
            "38/38 [==============================] - 0s 2ms/step - loss: 0.0491 - accuracy: 0.9925\n",
            "Epoch 62/1000\n",
            "38/38 [==============================] - 0s 2ms/step - loss: 0.0528 - accuracy: 0.9900\n",
            "Epoch 63/1000\n",
            "38/38 [==============================] - 0s 1ms/step - loss: 0.0420 - accuracy: 0.9925\n",
            "Epoch 64/1000\n",
            "38/38 [==============================] - 0s 1ms/step - loss: 0.0424 - accuracy: 0.9950\n",
            "Epoch 65/1000\n",
            "38/38 [==============================] - 0s 1ms/step - loss: 0.0477 - accuracy: 0.9867\n",
            "Epoch 66/1000\n",
            "38/38 [==============================] - 0s 2ms/step - loss: 0.0484 - accuracy: 0.9942\n",
            "Epoch 67/1000\n",
            "38/38 [==============================] - 0s 2ms/step - loss: 0.0428 - accuracy: 0.9908\n",
            "Epoch 68/1000\n",
            "38/38 [==============================] - 0s 2ms/step - loss: 0.0401 - accuracy: 0.9958\n",
            "Epoch 69/1000\n",
            "38/38 [==============================] - 0s 2ms/step - loss: 0.0432 - accuracy: 0.9942\n",
            "Epoch 70/1000\n",
            "38/38 [==============================] - 0s 1ms/step - loss: 0.0440 - accuracy: 0.9908\n",
            "Epoch 71/1000\n",
            "38/38 [==============================] - 0s 2ms/step - loss: 0.0518 - accuracy: 0.9933\n",
            "Epoch 72/1000\n",
            "38/38 [==============================] - 0s 1ms/step - loss: 0.0432 - accuracy: 0.9950\n",
            "Epoch 73/1000\n",
            "38/38 [==============================] - 0s 1ms/step - loss: 0.0406 - accuracy: 0.9942\n",
            "Epoch 74/1000\n",
            "38/38 [==============================] - 0s 1ms/step - loss: 0.0386 - accuracy: 0.9933\n",
            "Epoch 75/1000\n",
            "38/38 [==============================] - 0s 2ms/step - loss: 0.0435 - accuracy: 0.9950\n",
            "Epoch 76/1000\n",
            "38/38 [==============================] - 0s 1ms/step - loss: 0.0373 - accuracy: 0.9967\n",
            "Epoch 77/1000\n",
            "38/38 [==============================] - 0s 1ms/step - loss: 0.0357 - accuracy: 0.9950\n",
            "Epoch 78/1000\n",
            "38/38 [==============================] - 0s 3ms/step - loss: 0.0361 - accuracy: 0.9933\n",
            "Epoch 79/1000\n",
            "38/38 [==============================] - 0s 2ms/step - loss: 0.0325 - accuracy: 0.9967\n",
            "Epoch 80/1000\n",
            "38/38 [==============================] - 0s 1ms/step - loss: 0.0327 - accuracy: 0.9958\n",
            "Epoch 81/1000\n",
            "38/38 [==============================] - 0s 1ms/step - loss: 0.0332 - accuracy: 0.9983\n",
            "Epoch 82/1000\n",
            "38/38 [==============================] - 0s 2ms/step - loss: 0.0334 - accuracy: 0.9950\n",
            "Epoch 83/1000\n",
            "38/38 [==============================] - 0s 2ms/step - loss: 0.0344 - accuracy: 0.9958\n",
            "Epoch 84/1000\n",
            "38/38 [==============================] - 0s 2ms/step - loss: 0.0325 - accuracy: 0.9958\n",
            "Epoch 85/1000\n",
            "38/38 [==============================] - 0s 1ms/step - loss: 0.0339 - accuracy: 0.9942\n",
            "Epoch 86/1000\n",
            "38/38 [==============================] - 0s 2ms/step - loss: 0.0325 - accuracy: 0.9958\n",
            "Epoch 87/1000\n",
            "38/38 [==============================] - 0s 2ms/step - loss: 0.0299 - accuracy: 0.9958\n",
            "Epoch 88/1000\n",
            "38/38 [==============================] - 0s 1ms/step - loss: 0.0300 - accuracy: 0.9975\n",
            "Epoch 89/1000\n",
            "38/38 [==============================] - 0s 1ms/step - loss: 0.0326 - accuracy: 0.9958\n",
            "Epoch 90/1000\n",
            "38/38 [==============================] - 0s 1ms/step - loss: 0.0296 - accuracy: 0.9975\n",
            "Epoch 91/1000\n",
            "38/38 [==============================] - 0s 1ms/step - loss: 0.0316 - accuracy: 0.9950\n",
            "Epoch 92/1000\n",
            "38/38 [==============================] - 0s 1ms/step - loss: 0.0349 - accuracy: 0.9942\n",
            "Epoch 93/1000\n",
            "38/38 [==============================] - 0s 2ms/step - loss: 0.0326 - accuracy: 0.9967\n",
            "Epoch 94/1000\n",
            "38/38 [==============================] - 0s 1ms/step - loss: 0.0313 - accuracy: 0.9950\n",
            "Epoch 95/1000\n",
            "38/38 [==============================] - 0s 2ms/step - loss: 0.0327 - accuracy: 0.9958\n",
            "Epoch 96/1000\n",
            "38/38 [==============================] - 0s 2ms/step - loss: 0.0294 - accuracy: 0.9958\n",
            "Epoch 97/1000\n",
            "38/38 [==============================] - 0s 2ms/step - loss: 0.0677 - accuracy: 0.9842\n",
            "Epoch 98/1000\n",
            "38/38 [==============================] - 0s 1ms/step - loss: 0.0474 - accuracy: 0.9883\n",
            "Epoch 99/1000\n",
            "38/38 [==============================] - 0s 2ms/step - loss: 0.0601 - accuracy: 0.9817\n",
            "Epoch 100/1000\n",
            "38/38 [==============================] - 0s 1ms/step - loss: 0.0499 - accuracy: 0.9858\n",
            "Epoch 101/1000\n",
            "38/38 [==============================] - 0s 1ms/step - loss: 0.0369 - accuracy: 0.9933\n",
            "Epoch 102/1000\n",
            "38/38 [==============================] - 0s 1ms/step - loss: 0.0259 - accuracy: 0.9950\n",
            "Epoch 103/1000\n",
            "38/38 [==============================] - 0s 2ms/step - loss: 0.0325 - accuracy: 0.9933\n",
            "Epoch 104/1000\n",
            "38/38 [==============================] - 0s 2ms/step - loss: 0.0324 - accuracy: 0.9950\n",
            "Epoch 105/1000\n",
            "38/38 [==============================] - 0s 2ms/step - loss: 0.0249 - accuracy: 0.9967\n",
            "Epoch 106/1000\n",
            "38/38 [==============================] - 0s 2ms/step - loss: 0.0256 - accuracy: 0.9967\n",
            "Epoch 107/1000\n",
            "38/38 [==============================] - 0s 1ms/step - loss: 0.0230 - accuracy: 0.9975\n",
            "Epoch 108/1000\n",
            "38/38 [==============================] - 0s 2ms/step - loss: 0.0270 - accuracy: 0.9958\n",
            "Epoch 109/1000\n",
            "38/38 [==============================] - 0s 1ms/step - loss: 0.0274 - accuracy: 0.9950\n",
            "Epoch 110/1000\n",
            "38/38 [==============================] - 0s 1ms/step - loss: 0.0236 - accuracy: 0.9950\n",
            "Epoch 111/1000\n",
            "38/38 [==============================] - 0s 2ms/step - loss: 0.0256 - accuracy: 0.9967\n",
            "Epoch 112/1000\n",
            "38/38 [==============================] - 0s 1ms/step - loss: 0.0252 - accuracy: 0.9967\n",
            "Epoch 113/1000\n",
            "38/38 [==============================] - 0s 2ms/step - loss: 0.0226 - accuracy: 0.9983\n",
            "Epoch 114/1000\n",
            "38/38 [==============================] - 0s 1ms/step - loss: 0.0234 - accuracy: 0.9975\n",
            "Epoch 115/1000\n",
            "38/38 [==============================] - 0s 1ms/step - loss: 0.0214 - accuracy: 0.9975\n",
            "Epoch 116/1000\n",
            "38/38 [==============================] - 0s 1ms/step - loss: 0.0221 - accuracy: 0.9975\n",
            "Epoch 117/1000\n",
            "38/38 [==============================] - 0s 2ms/step - loss: 0.0390 - accuracy: 0.9933\n",
            "Epoch 118/1000\n",
            "38/38 [==============================] - 0s 1ms/step - loss: 0.0605 - accuracy: 0.9800\n",
            "Epoch 119/1000\n",
            "38/38 [==============================] - 0s 2ms/step - loss: 0.0441 - accuracy: 0.9900\n",
            "Epoch 120/1000\n",
            "38/38 [==============================] - 0s 2ms/step - loss: 0.0247 - accuracy: 0.9975\n",
            "Epoch 121/1000\n",
            "38/38 [==============================] - 0s 1ms/step - loss: 0.0227 - accuracy: 0.9967\n",
            "Epoch 122/1000\n",
            "38/38 [==============================] - 0s 2ms/step - loss: 0.0196 - accuracy: 0.9975\n",
            "Epoch 123/1000\n",
            "38/38 [==============================] - 0s 2ms/step - loss: 0.0206 - accuracy: 0.9975\n",
            "Epoch 124/1000\n",
            "38/38 [==============================] - 0s 1ms/step - loss: 0.0249 - accuracy: 0.9967\n",
            "Epoch 125/1000\n",
            "38/38 [==============================] - 0s 2ms/step - loss: 0.0210 - accuracy: 0.9983\n",
            "Epoch 126/1000\n",
            "38/38 [==============================] - 0s 2ms/step - loss: 0.0209 - accuracy: 0.9975\n",
            "Epoch 127/1000\n",
            "38/38 [==============================] - 0s 2ms/step - loss: 0.0228 - accuracy: 0.9967\n",
            "Epoch 128/1000\n",
            "38/38 [==============================] - 0s 2ms/step - loss: 0.0202 - accuracy: 0.9983\n",
            "Epoch 129/1000\n",
            "38/38 [==============================] - 0s 2ms/step - loss: 0.0249 - accuracy: 0.9958\n",
            "Epoch 130/1000\n",
            "38/38 [==============================] - 0s 3ms/step - loss: 0.0229 - accuracy: 0.9975\n",
            "Epoch 131/1000\n",
            "38/38 [==============================] - 0s 4ms/step - loss: 0.0222 - accuracy: 0.9967\n",
            "Epoch 132/1000\n",
            "38/38 [==============================] - 0s 3ms/step - loss: 0.0173 - accuracy: 0.9975\n",
            "Epoch 133/1000\n",
            "38/38 [==============================] - 0s 4ms/step - loss: 0.0217 - accuracy: 0.9958\n",
            "Epoch 134/1000\n",
            "38/38 [==============================] - 0s 3ms/step - loss: 0.0357 - accuracy: 0.9942\n",
            "Epoch 135/1000\n",
            "38/38 [==============================] - 0s 4ms/step - loss: 0.0306 - accuracy: 0.9942\n",
            "Epoch 136/1000\n",
            "38/38 [==============================] - 0s 4ms/step - loss: 0.0197 - accuracy: 0.9967\n",
            "Epoch 137/1000\n",
            "38/38 [==============================] - 0s 3ms/step - loss: 0.0287 - accuracy: 0.9950\n",
            "Epoch 138/1000\n",
            "38/38 [==============================] - 0s 4ms/step - loss: 0.0341 - accuracy: 0.9900\n",
            "Epoch 139/1000\n",
            "38/38 [==============================] - 0s 4ms/step - loss: 0.0312 - accuracy: 0.9908\n",
            "Epoch 140/1000\n",
            "38/38 [==============================] - 0s 3ms/step - loss: 0.0269 - accuracy: 0.9933\n",
            "Epoch 141/1000\n",
            "38/38 [==============================] - 0s 3ms/step - loss: 0.0255 - accuracy: 0.9958\n",
            "Epoch 142/1000\n",
            "38/38 [==============================] - 0s 4ms/step - loss: 0.0309 - accuracy: 0.9967\n"
          ]
        }
      ],
      "source": [
        "# Fit the model using 50 epochs and the training data\n",
        "early_stop=keras.callbacks.EarlyStopping(monitor='loss', patience=10)\n",
        "history = model.fit(x_train_scaled,y_train,epochs=1000,callbacks=[early_stop])"
      ]
    },
    {
      "cell_type": "code",
      "execution_count": 30,
      "metadata": {},
      "outputs": [
        {
          "name": "stdout",
          "output_type": "stream",
          "text": [
            "dict_keys(['loss', 'accuracy'])\n"
          ]
        },
        {
          "data": {
            "image/png": "[encoded data removed]",
            "text/plain": [
              "<Figure size 640x480 with 1 Axes>"
            ]
          },
          "metadata": {},
          "output_type": "display_data"
        }
      ],
      "source": [
        "def visualize_model(history):\n",
        "  #Lets visualize our model\n",
        "  print(history.history.keys())\n",
        "  # Lets plot the loss\n",
        "  plt.plot(history.history['loss'])\n",
        "  plt.title('Model loss')\n",
        "  plt.ylabel('Loss')\n",
        "  plt.xlabel('Number of epochs')\n",
        "  plt.legend(['loss plot'], loc='upper right')\n",
        "  plt.show()  \n",
        "\n",
        "visualize_model(history)"
      ]
    },
    {
      "cell_type": "markdown",
      "metadata": {
        "id": "RfHMPZVI6q61"
      },
      "source": [
        "### Step 3: Evaluate the model using the test data to determine the model’s loss and accuracy.\n"
      ]
    },
    {
      "cell_type": "code",
      "execution_count": 31,
      "metadata": {
        "colab": {
          "base_uri": "https://localhost:8080/"
        },
        "id": "5hfVADKo6q61",
        "outputId": "7df473ad-3301-4b49-e5c3-16e1687cc1cf"
      },
      "outputs": [
        {
          "name": "stdout",
          "output_type": "stream",
          "text": [
            "13/13 [==============================] - 0s 2ms/step - loss: 1.5659 - accuracy: 0.7475\n",
            "Loss: 1.5659151077270508, Accuracy: 0.7475000023841858\n"
          ]
        }
      ],
      "source": [
        "# Evaluate the model loss and accuracy metrics using the evaluate method and the test data\n",
        "model_loss, model_accuracy =model.evaluate(x_test_scaled, y_test,)\n",
        "\n",
        "\n",
        "# Display the model loss and accuracy results\n",
        "print(f\"Loss: {model_loss}, Accuracy: {model_accuracy}\")"
      ]
    },
    {
      "cell_type": "markdown",
      "metadata": {
        "id": "jpAv0rXA6q61"
      },
      "source": [
        "### Step 4: Save and export your model to a keras file, and name the file `student_loans.keras`.\n"
      ]
    },
    {
      "cell_type": "code",
      "execution_count": 17,
      "metadata": {
        "id": "q0MetN0W6q61"
      },
      "outputs": [
        {
          "name": "stdout",
          "output_type": "stream",
          "text": [
            "Model saved to: student_loans.keras\n"
          ]
        }
      ],
      "source": [
        "# Set the model's file path\n",
        "keras_file_path = 'student_loans.keras'\n",
        "\n",
        "# Export your model to a keras file\n",
        "tf.keras.models.save_model(model, keras_file_path)\n",
        "\n",
        "#Print saved model\n",
        "print(\"Model saved to:\", keras_file_path)\n"
      ]
    },
    {
      "cell_type": "markdown",
      "metadata": {
        "id": "R1opCDdN6q61"
      },
      "source": [
        "---\n",
        "## Predict Loan Repayment Success by Using your Neural Network Model"
      ]
    },
    {
      "cell_type": "markdown",
      "metadata": {
        "id": "TfIfpeiy6q61"
      },
      "source": [
        "### Step 1: Reload your saved model."
      ]
    },
    {
      "cell_type": "code",
      "execution_count": 18,
      "metadata": {
        "id": "OCET2mvW6q61"
      },
      "outputs": [],
      "source": [
        "# Set the model's file path\n",
        "keras_file_path = 'student_loans.keras'\n",
        "\n",
        "# Load the model to a new object\n",
        "loaded_model = tf.keras.models.load_model(keras_file_path)"
      ]
    },
    {
      "cell_type": "markdown",
      "metadata": {
        "id": "rTPKooGw6q61"
      },
      "source": [
        "### Step 2: Make predictions on the testing data and save the predictions to a DataFrame."
      ]
    },
    {
      "cell_type": "code",
      "execution_count": 19,
      "metadata": {
        "colab": {
          "base_uri": "https://localhost:8080/"
        },
        "id": "Vet7qjgx6q62",
        "outputId": "0925af42-7e12-4978-8396-2a2c1580e1eb"
      },
      "outputs": [
        {
          "name": "stdout",
          "output_type": "stream",
          "text": [
            "13/13 [==============================] - 0s 1ms/step\n"
          ]
        },
        {
          "data": {
            "text/plain": [
              "array([[0.03512987],\n",
              "       [0.31249297],\n",
              "       [0.92853296],\n",
              "       [0.45188382],\n",
              "       [0.99626863]], dtype=float32)"
            ]
          },
          "execution_count": 19,
          "metadata": {},
          "output_type": "execute_result"
        }
      ],
      "source": [
        "# Make predictions with the test data\n",
        "y_pred = loaded_model.predict(x_test_scaled)\n",
        "\n",
        "\n",
        "# Display a sample of the predictions\n",
        "y_pred[:5]"
      ]
    },
    {
      "cell_type": "code",
      "execution_count": 20,
      "metadata": {
        "colab": {
          "base_uri": "https://localhost:8080/",
          "height": 424
        },
        "id": "87o8exFPhjfl",
        "outputId": "da5339c5-cea7-43e4-ec22-e168ea16dfa2"
      },
      "outputs": [
        {
          "data": {
            "text/plain": [
              "Pred_value\n",
              "1             204\n",
              "0             196\n",
              "Name: count, dtype: int64"
            ]
          },
          "execution_count": 20,
          "metadata": {},
          "output_type": "execute_result"
        }
      ],
      "source": [
        "# Save the predictions to a DataFrame and round the predictions to binary results\n",
        "y_pred_binary = pd.DataFrame([0 if val < 0.5 else 1 for val in y_pred],columns=['Pred_value'])\n",
        "\n",
        "y_pred_binary.value_counts()"
      ]
    },
    {
      "cell_type": "markdown",
      "metadata": {
        "id": "oxxLwycg6q62"
      },
      "source": [
        "### Step 4: Display a classification report with the y test data and predictions"
      ]
    },
    {
      "cell_type": "code",
      "execution_count": 21,
      "metadata": {
        "colab": {
          "base_uri": "https://localhost:8080/"
        },
        "id": "UTxYZibW6q67",
        "outputId": "f341b396-9b4c-478c-dba8-f6d904ba10e3"
      },
      "outputs": [
        {
          "data": {
            "image/png": "[encoded data removed]",
            "text/plain": [
              "<Figure size 800x600 with 1 Axes>"
            ]
          },
          "metadata": {},
          "output_type": "display_data"
        }
      ],
      "source": [
        "# Print the classification report with the y test data and predictions\n",
        "import seaborn as sns\n",
        "cm = confusion_matrix(y_test,y_pred_binary)\n",
        "plt.figure(figsize=(8, 6))\n",
        "sns.heatmap(cm, annot=True, fmt='g', cmap='Blues', cbar=False,\n",
        "            xticklabels=np.unique(y_test), yticklabels=np.unique(y_test))\n",
        "plt.xlabel('Predicted labels')\n",
        "plt.ylabel('True labels')\n",
        "plt.title('Confusion Matrix')\n",
        "plt.show()"
      ]
    },
    {
      "cell_type": "markdown",
      "metadata": {
        "id": "8Aaof1tBtcp6"
      },
      "source": [
        "---\n",
        "## Discuss creating a recommendation system for student loans"
      ]
    },
    {
      "cell_type": "markdown",
      "metadata": {
        "id": "_CC8cNpNtcp6"
      },
      "source": [
        "Briefly answer the following questions in the space provided:\n",
        "\n",
        "1. Describe the data that you would need to collect to build a recommendation system to recommend student loan options for students. Explain why this data would be relevant and appropriate.\n",
        "\n",
        "2. Based on the data you chose to use in this recommendation system, would your model be using collaborative filtering, content-based filtering, or context-based filtering? Justify why the data you selected would be suitable for your choice of filtering method.\n",
        "\n",
        "3. Describe two real-world challenges that you would take into consideration while building a recommendation system for student loans. Explain why these challenges would be of concern for a student loan recommendation system."
      ]
    },
    {
      "cell_type": "markdown",
      "metadata": {
        "id": "5KqIT8kYtcp6"
      },
      "source": [
        "**1. Describe the data that you would need to collect to build a recommendation system to recommend student loan options for students. Explain why this data would be relevant and appropriate.**\n",
        "\n",
        "Student Profile Data: This includes demographic information such as age, gender, location, educational background, academic performance, field of study, and income level. This data helps understand the individual's financial situation, academic standing, and career prospects, which are crucial factors in determining loan suitability.\n",
        "Financial Information: Data related to income, expenses, assets, debts, credit score, and financial history provides insights into the student's financial health and creditworthiness. Lenders use this information to assess the student's ability to repay loans and determine loan terms and interest rates.\n",
        "Loan Options and Terms: Information about various student loan products, including interest rates, repayment plans, loan amounts, eligibility criteria, and lender policies. This data helps match students with loans that best fit their financial needs and preferences.\n",
        "User Interactions and Feedback: Data on user interactions, such as loan applications, clicks, views, and feedback, can provide valuable insights into user preferences, interests, and behaviors. This data can be used to personalize recommendations and improve the recommendation system's performance over time.\n",
        "\n",
        "\n",
        "**2. Based on the data you chose to use in this recommendation system, would your model be using collaborative filtering, content-based filtering, or context-based filtering? Justify why the data you selected would be suitable for your choice of filtering method.**\n",
        "\n",
        "Context-Based Filtering: Contextual information such as the student's current academic status, field of study, income level, and employment prospects can influence loan recommendations. By considering the student's unique circumstances and financial needs, the recommendation system can offer more relevant and timely loan options.\n",
        "\n",
        "\n",
        "**3. Describe two real-world challenges that you would take into consideration while building a recommendation system for student loans. Explain why these challenges would be of concern for a student loan recommendation system.**\n",
        "\n",
        "Data Privacy and Security: Collecting and storing sensitive financial and personal information requires robust data privacy and security measures to protect user confidentiality and prevent unauthorized access or misuse of data. Compliance with regulations such as GDPR and CCPA is essential to ensure the ethical handling of user data.\n",
        "Bias and Fairness: Recommendation systems may inadvertently introduce bias or discrimination in loan recommendations based on factors such as gender, race, or socioeconomic status. It's crucial to mitigate bias by ensuring fairness, transparency, and accountability in the recommendation process and regularly auditing and refining the algorithm to minimize any potential biases.\n",
        "\n"
      ]
    }
  ],
  "metadata": {
    "colab": {
      "provenance": []
    },
    "kernelspec": {
      "display_name": "Python 3 (ipykernel)",
      "language": "python",
      "name": "python3"
    },
    "language_info": {
      "codemirror_mode": {
        "name": "ipython",
        "version": 3
      },
      "file_extension": ".py",
      "mimetype": "text/x-python",
      "name": "python",
      "nbconvert_exporter": "python",
      "pygments_lexer": "ipython3",
      "version": "3.10.13"
    }
  },
  "nbformat": 4,
  "nbformat_minor": 0
}
